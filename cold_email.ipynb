{
 "cells": [
  {
   "cell_type": "code",
   "execution_count": 1,
   "metadata": {},
   "outputs": [
    {
     "name": "stderr",
     "output_type": "stream",
     "text": [
      "USER_AGENT environment variable not set, consider setting it to identify your requests.\n"
     ]
    },
    {
     "data": {
      "text/plain": [
       "True"
      ]
     },
     "execution_count": 1,
     "metadata": {},
     "output_type": "execute_result"
    }
   ],
   "source": [
    "import logging\n",
    "import os\n",
    "\n",
    "\n",
    "from dotenv import load_dotenv\n",
    "import requests\n",
    "from bs4 import BeautifulSoup\n",
    "import pandas as pd\n",
    "from langchain_community.document_loaders import WebBaseLoader\n",
    "from langchain_text_splitters import RecursiveCharacterTextSplitter\n",
    "from langchain_core.prompts import PromptTemplate\n",
    "from langchain.chains.summarize import load_summarize_chain\n",
    "from langchain_core.output_parsers import JsonOutputParser\n",
    "from langchain_core.pydantic_v1 import BaseModel, Field\n",
    "from langchain_groq import ChatGroq\n",
    "load_dotenv()\n"
   ]
  },
  {
   "cell_type": "code",
   "execution_count": 2,
   "metadata": {},
   "outputs": [],
   "source": [
    "llm=ChatGroq(model=\"llama-3.2-11b-text-preview\",api_key=os.environ['GROQ_API_KEY'])"
   ]
  },
  {
   "cell_type": "code",
   "execution_count": 3,
   "metadata": {},
   "outputs": [
    {
     "data": {
      "text/plain": [
       "[Document(metadata={'source': 'https://www.infosys.com', 'title': 'Infosys - Consulting | IT Services | Digital Transformation', 'description': 'Infosys is a global leader in next-generation digital services and consulting.', 'language': 'en'}, page_content='\\n\\n\\n\\n\\n\\n\\n\\n\\n\\n\\n\\n\\n\\n\\n\\n\\n\\n\\n\\n\\n\\n\\nInfosys - Consulting | IT Services | Digital Transformation\\n\\n\\n\\n\\n\\n\\n\\n\\n\\n\\n\\n\\n\\n\\n\\n\\n\\n\\n\\n\\n\\n\\n\\n\\n\\n\\n\\n\\n\\n\\n\\n\\n\\n\\n\\n\\n\\n\\n\\n\\n\\n\\n\\n\\n\\n\\n\\n\\n\\n\\n\\n\\n\\n\\n\\n \\n\\n \\n\\n\\n\\n Navigate your next \\n Infosys Knowledge Institute \\n Investors \\n Careers \\n\\n\\n\\n\\n\\n\\n\\nsearch\\n\\n\\n\\ncross\\n\\n\\n\\n\\n\\n\\n\\n\\n\\n\\n\\n\\n\\n\\n\\n\\n\\n\\nSearch\\nHit enter to search or ESC to close\\n\\n\\n\\n\\n\\n\\n\\n\\n\\n\\n\\n\\n\\n\\n\\n\\n×\\n\\n\\n\\n\\n\\n\\n\\n\\n\\n\\n\\n\\n\\n\\n\\n\\n\\n\\n\\n\\n\\n\\n\\n\\n\\n\\n\\n\\n\\n\\n\\n\\n   \\n\\n Navigate your next   \\n Industries   \\n Services   \\n Platforms   \\n Infosys Knowledge Institute\\r\\n                  \\n About Us   \\n Investors   \\n Careers\\r\\n                  \\n Newsroom   \\n Contact Us   \\n \\n\\n\\n\\n \\n \\n\\n\\n\\n \\n \\n\\n\\n\\n \\n \\n\\n\\n\\n \\n\\n\\n\\n\\n    \\n\\n\\n   \\n\\n\\n \\nBeing Resilient. That\\'s Live Enterprise.\\n \\n\\n\\n\\n\\n\\nDigital Core Capabilities\\n\\n \\n\\nDigital Operating Model\\n\\n \\n\\nEmpowering Talent Transformations\\n\\n \\n\\nTales of Transformation\\n\\n\\n\\n\\n\\n\\n    \\n\\n\\nIndustries\\n\\n\\n\\n Aerospace & Defense \\n Agriculture \\n Automotive \\n Chemical\\r\\n                    Manufacturing \\n Communication\\r\\n                    Services \\n Consumer\\r\\n                    Packaged Goods \\n Education \\n Engineering\\r\\n                    Procurement & Construction \\n Financial\\r\\n                    Services \\n\\n\\n\\n\\n Healthcare \\n High\\r\\n                    Technology \\n Industrial\\r\\n                    Manufacturing \\n Information Services\\r\\n                    & Publishing \\n Insurance \\n Life Sciences \\n Logistics\\r\\n                    & Distribution \\n Media and\\r\\n                    Entertainment \\n Mining \\n\\n\\n\\n\\n Oil and Gas \\n Private Equity \\n Professional\\r\\n                    Services \\n Public\\r\\n                    Sector \\n Retail \\n Semiconductor \\n Travel and\\r\\n                    Hospitality \\n Utilities \\n Waste\\r\\n                    Management \\n\\n\\n\\n\\n\\n\\n    \\n\\n\\nServices\\n\\n\\n\\n \\nExperience\\n\\n\\n\\n\\n\\n Infosys Aster \\n\\n\\n\\n\\n Digital Marketing \\n\\n\\n\\n\\n Digital Commerce \\n\\n\\n\\n\\n Digital Interactions \\n\\n\\n\\n\\n\\n Digital Workplace\\r\\n                            Services \\n\\n\\n\\n\\n Digital Experience \\n\\n\\n\\n\\n Infosys Metaverse Foundry \\n\\n\\n\\n\\n\\n\\n\\n\\n\\n \\nInsight\\n\\n\\n\\n\\n\\n Infosys\\r\\n                            Topaz \\n\\n\\n\\n\\n Data Analytics and AI \\n\\n\\n\\n\\n Applied AI\\n\\n\\n\\n\\n\\n\\n Infosys Generative AI \\n\\n\\n\\n\\n Infosys Sustainability Services \\n\\n\\n\\n\\n\\n\\n\\n\\n\\n \\nInnovate\\n\\n\\n\\n\\n\\n Blockchain\\n\\n\\n\\n\\n\\n Engineering Services \\n\\n\\n\\n\\n Internet of Things (IoT) \\n\\n\\n\\n\\n\\n\\n\\n\\n\\n \\nAccelerate\\n\\n\\n\\n\\n\\n Enterprise Agile DevOps  \\n\\n\\n\\n\\n API Economy &\\r\\n                            Microservices \\n\\n\\n\\n\\n Application Modernization \\n\\n\\n\\n\\n\\n Cloud - Infosys Cobalt \\n\\n\\n\\n\\n Digital Process\\r\\n                            Automation \\n\\n\\n\\n\\n Digital Supply Chain \\n\\n\\n\\n\\n\\n Microsoft\\r\\n                            Business Application Services \\n\\n\\n\\n\\n Microsoft Cloud Business \\n\\n\\n\\n\\n Oracle \\n\\n\\n\\n\\n\\n SAP \\n\\n\\n\\n\\n Salesforce\\n\\n\\n\\n\\n\\n Service Experience\\r\\n                            Transformation \\n\\n\\n\\n\\n\\n Energy Transition \\n\\n\\n\\n\\n\\n\\n\\n\\n\\n \\nAssure\\n\\n\\n\\n\\n\\n Cyber\\r\\n                            Security \\n\\n\\n\\n\\n Quality Engineering \\n\\n\\n\\n\\n\\n\\n\\n\\n\\n  \\nApplication Development and Maintenance\\n \\n  \\nBusiness Process Management\\n \\n  \\nConsulting Services\\n \\n  \\nIncubating Emerging Offerings\\n \\n\\n\\n\\n\\n\\n\\n    \\n\\n\\nPlatforms\\n\\n\\n\\n EdgeVerve \\n Infosys\\r\\n                    Finacle \\n Infosys Live Enterprise Suite \\n Infosys\\r\\n                    Cortex \\n Infosys\\r\\n                    Meridian \\n\\n\\n\\n\\n Panaya \\n Infosys Equinox \\n Infosys\\r\\n                    Wingspan \\n Infosys\\r\\n                    HELIX \\n Infosys Polycloud \\n\\n\\n\\n\\n\\n\\n    \\n\\n\\nInfosys Knowledge Institute\\n\\n\\n\\n Overview \\n Connect \\n About Us \\n\\n\\n\\n\\n Learn\\n Research \\n Perspectives \\n Podcasts \\n Videos \\n\\n\\n\\n\\n\\n\\n    \\n\\n\\nAbout Us\\n\\n\\n\\n Overview \\n History \\n\\n ESG\\n\\n Management\\r\\n                    Profiles \\n Infosys Knowledge\\r\\n                    Institute \\n Infosys Stories \\n Champions Evolve \\n Infosys Springboard \\n\\n\\n\\n\\n\\n Subsidiaries \\n Clients Speak \\n Alliances \\n Innovation Fund \\n Infosys Innovation\\r\\n                    Network (IIN) \\n Diversity Equity\\r\\n                    Inclusion \\n Awards \\n Analyst Reports \\n\\n\\n\\n\\n Flagship Brand Partnerships \\n Tennis \\n\\n All Partnerships \\n Australian Open \\n Roland-Garros \\n ATP \\n  International\\r\\n                      Tennis Hall of Fame  \\n\\n\\n Formula E \\n\\n Madison Square\\r\\n                    Garden \\n The Economist\\r\\n                    Group \\n Dow Jones \\n Financial Times \\n The Cloud Hub \\n Handelsblatt \\n\\n\\n\\n\\n\\n\\n\\n\\n\\n\\n\\n\\n\\n\\n\\n\\n\\n\\n\\n\\n\\n\\n\\n\\n\\n\\n\\n \\n\\n\\n\\n\\n\\n\\nInfosys and The Financial Times Unveil the ‘FT Money Machine’ Through Immersive Extended Reality Experience\\nKnow more \\n\\n\\n\\n\\n\\n\\n\\n\\n \\n\\n\\n\\n\\n\\n\\nLaunched Infosys Aster: The AI-amplified\\r\\n                    Marketing Suite\\nKnow more \\n\\n\\n\\n\\n\\n\\n\\n\\n \\n\\n\\n\\n\\n\\n\\n\\nChampions Evolve.\\n\\nDigital-First\\nCloud-First\\nAI-First\\n\\nKnow\\r\\n                  More \\n\\n\\n\\n\\n\\n\\n\\n\\n \\n\\n\\n\\n\\n\\n\\n\\nCloud Survey Report 2024\\nKnow more \\n\\n\\n\\n\\n\\n\\n\\n\\n\\n\\n\\n\\n\\n\\n\\nDigital Core Capabilities\\n Build vital capabilities to deliver digital outcomes.\\n Explore\\n\\n\\nCase studies\\nPfizer\\'s journey towards increased productivity, powered by AI\\n View\\n\\n\\n\\xa0\\nA government that contributes to the joy of parenting\\n View\\n\\n\\n\\n\\n\\n\\n\\n\\n\\n\\n\\n\\n\\n\\n\\nDigital Operating Model\\n For the AI-first Enterprise\\n Explore\\n\\n\\nClient Speak\\nA transformation story of BASF Agricultural Solutions to achieve faster time-to-market using DevOps and DataOps\\n View\\n\\n\\nClient Testimonial\\nNN Life Insurance Company Partners with Infosys for its Cloud and Agile Transformation\\n View\\n\\n\\n\\n\\n\\n\\n\\n\\n\\n\\n\\n\\n\\n\\n\\nEmpowering Talent Transformations\\n Embrace the talent revolution to remain relevant in the future.\\n Explore\\n\\n\\nInsights\\nImproving productivity with digital field workforce management\\n View\\n\\n\\n\\xa0\\nDeveloping talent for our digital future\\n View\\n\\n\\n\\n\\n\\n\\n\\n\\n\\n\\n\\n\\n\\n\\n\\nThe next\\nWe bring you\\r\\n          powerful advantages to navigate your digital transformation\\n\\n\\n\\n\\n \\n \\n\\n\\nExperience\\n Design-led transformation. From brand to\\r\\n                    experience Create unified digital experiences\\r\\n                    to enhance customer experience and build loyalty \\n\\n\\n \\n \\n \\n\\n\\nInsight\\n Do 100x more. Do it yourself Build an analytics-driven enterprise to monetize data \\n\\n\\n \\n \\n \\n\\n\\nInnovate\\n Bridge the physical and digital, with software and\\r\\n                    platforms Engineer digital-first products and\\r\\n                    offerings to create new revenue streams \\n\\n\\n \\n \\n \\n\\n\\nAccelerate\\n Keep your core. Keep innovating Find your path to non-disruptive renewal of IT\\r\\n                    landscapes \\n\\n\\n \\n \\n \\n\\n\\nAssure\\n Digital-trust. Assured. To be\\r\\n                    the catalyst for growth by solving complex\\r\\n                    cybersecurity problems, minimizing risks and building cyber resilience for your\\r\\n                    businesses across the globe \\n\\n\\n \\n\\n\\n\\n\\n \\nService offerings\\n\\n\\n\\nService offerings\\n\\n\\n\\n\\n\\n \\nExplore industries\\n\\n\\n\\nExplore industries\\n\\n\\n\\n\\n\\n \\nOur platforms\\n\\n\\n\\nOur platforms\\n\\n\\n\\n\\n\\n \\nNavigate your next\\n\\n\\n\\nNavigate your next\\n\\n\\n\\n\\n\\n\\n\\n\\n \\n\\n\\n\\nBringing data, insights and digital experiences to the ATP world tour\\nImagine a machine with a mind of its own- one that tells you the exact degree to bend\\r\\n                  for the perfect backhand.\\r\\n                  This future is being shaped with data-driven analytics, virtual reality and\\r\\n                  artificial intelligence. Infosys\\r\\n                  and ATP World Tour have partnered to explore these new rich digital experiences, so\\r\\n                  you can see the game\\r\\n                  you love, like never before.\\n Learn more \\n\\n\\nExplore services\\n Blockchain \\n Infosys\\r\\n                    Cobalt \\n Data\\r\\n                    analytics \\n Mainframe\\r\\n                    modernization \\n View all \\n\\n\\n\\n\\n\\n\\n\\n \\n\\n\\n\\nAimia and Infosys: Innovating for a better future\\nJan – Pieter Lips, President, International Coalitions, Aimia speaks about the\\r\\n                  evolution of the relationship\\r\\n                  between Aimia and Infosys and our journey from being a trusted IT vendor partner to\\r\\n                  a truly strategic partner\\r\\n                  to Aimia. At the core of this relationship is an environment of always-on learning\\r\\n                  and relentless innovation.\\n Learn more \\n\\n\\nExplore industries\\n Aerospace &\\r\\n                    Defense \\n Agriculture \\n Automotive \\n Financial\\r\\n                    Services \\n Communication\\r\\n                    Services \\n View all \\n\\n\\n\\n\\n\\n\\n\\n \\n\\n\\n\\nBring the power of AI to build a deeply automated foundation for the enterprise\\nInfosys Nia is helping organizations succeed with enterprise-grade artificial\\r\\n                  intelligence by simplifying\\r\\n                  complex tasks and amplifying capabilities to allow the enterprise to reinvent itself\\r\\n                  and do things it could\\r\\n                  never do before\\n Learn more \\n\\n\\nExplore platforms\\n EdgeVerve \\n Infosys\\r\\n                    Finacle \\n Infosys Nia \\n Panaya\\n\\n Infosys\\r\\n                    Equinox \\n View\\r\\n                    all \\n\\n\\n\\n\\n\\n\\n \\n\\n\\n\\nNavigate your next\\nDiscover how we navigate our clients from where they are to where they aspire to be.\\r\\n                  We do it by enabling\\r\\n                  them with an AI-powered core that helps prioritize the execution of change. We also\\r\\n                  empower the business\\r\\n                  with agile digital at scale to deliver unprecedented levels of performance. Our\\r\\n                  always-on learning agenda\\r\\n                  drives their continuous improvement.\\n Explore \\n\\n\\n\\n\\n\\n\\n\\n\\n\\n\\n\\n\\n\\n\\n\\n\\n\\n\\n\\n\\n\\n\\n\\nRing the Sound of Opportunity, Move 1,000+1,000 Lives Forward\\n\\n Read more \\n\\n\\n\\n\\n\\n\\n\\n\\n\\n\\n\\nOur Purpose:\\nTo amplify human potential and create the next opportunity for\\r\\n            people, businesses and communities\\n\\n\\n\\n\\n\\n\\n\\n\\n\\n\\n \\nAbout us\\nA global leader in next-generation digital\\r\\n          services and consulting\\n\\n\\n\\n\\n 56\\ncountries where we have trusting clients\\n\\n\\n\\n\\nUS$18.8\\nbillion total revenue (LTM)\\n\\n\\n\\n\\n 24+\\nmillion training (hours) conducted for employees, globally\\n\\n\\n\\n\\n\\n\\n\\nIn the news\\n \\nWhile only 2% are ready, most companies expect productivity gains of 10-40% with Enterprise AI: Infosys Research  \\n \\n \\nInfosys Unveils Small Language Models – Infosys Topaz BankingSLM and Infosys Topaz ITOpsSLM – Built on NVIDIA AI Stack  \\n \\n \\nInfosys Collaborates with University of Cambridge to Establish an AI Lab in London. Unveils New and Expanded Living Lab to Accelerate Innovation for Enterprises  \\n \\n   Launched today: Infosys Topaz - An AI-first offering to\\r\\n                accelerate business value for global enterprises using generative AI \\n\\n\\n\\n\\n\\n\\n\\n \\n\\n  \\n\\nInfosys Q2 FY25 Results - Archived Webcast\\nOctober 17, 2024\\n\\n\\n \\n\\n\\n \\n\\n  \\n\\nThe Future of Work 2023 Report \\n\\n\\n \\n\\n\\n\\n \\n\\n  \\n\\n\\n\\nESG is a business necessity, and offers short-term financial\\r\\n                            benefits now\\n\\n\\n\\n\\n \\n\\n\\n \\n\\n  \\n\\nWhy are enterprises moving their applications to the cloud? – An\\r\\n                        Infosys research\\n\\n\\n \\n\\n\\n\\n\\n\\n\\n\\n\\n\\n\\n\\n\\n\\n\\n\\nInvestors\\nMaximizing shareholder value with\\r\\n          good corporate governance\\n\\n\\n\\n  \\nIntegrated Annual Report 2024\\n \\n\\n\\nInvestor central\\n Results\\n Second Quarter FY25\\n\\n Archived Webcast\\n Q2 FY25 Press\\r\\n                Conference\\n\\n Event\\n The 43rd\\r\\n                Annual General Meeting\\n\\n View All\\n\\n\\n\\n\\n\\n\\n\\n\\n\\n\\n\\n\\n\\nCareers\\nEvery Infoscion is the navigator\\r\\n          of our clients’ digital transformation\\n\\n\\n\\n\\n\\n  \\nLife at Infosys\\n\\nWhat our people say\\n\\n  \"I\\'m most excited about the\\r\\n                  opportunity to grow\\r\\n                  at Infosys.\" \\r\\n                  - Danielle, Infosys Indiana \\n  \"I joined Infosys because of\\r\\n                  the excellent\\r\\n                  hands-on training.\" \\r\\n                  - Annam, Infosys Plano \\n  \"Infosys is on an Amazing journey of\\r\\n                  transformation\" \\r\\n                  - Becky, Infosys Plano \\n\\n\\n\\n\\n\\n\\nFind opportunities right for you\\nExplore Careers\\n\\n\\n\\n\\n\\n\\n\\n\\n\\n\\n\\n\\nAmericas \\n\\n\\n\\nAsia Pacific \\n\\n\\n\\nEurope \\n\\n\\n\\nMiddle East and Africa \\n\\n\\n\\n\\nLet\\'s help you navigate your next\\ncontact us \\n\\n\\n\\n\\n\\n\\n\\n\\n\\nNavigate your next\\n\\nCore Capabilities\\n\\nOperating Models\\n\\nTalent Transformations\\n\\nThe next\\n\\nAbout us\\n\\nInvestors\\n\\nCareers\\n\\nContact us  \\n\\n\\n\\n\\n\\n\\n\\n\\n\\n\\n\\n\\n\\n\\n\\n\\n\\nCompany\\n\\nNavigate your next\\nAbout\\r\\n              Us\\nCareers\\nESG\\nInvestors \\nNewsroom\\nAlumni \\n\\n\\n\\nSubsidiaries\\n\\nEdgeVerve Systems\\nInfosys BPM \\nInfosys Consulting\\nInfosys Public Services\\n\\n\\n\\nPrograms\\n\\nInfosys Foundation\\nInfosys Foundation USA\\nInfosys Science Foundation\\nInfosys Leadership Institute\\n\\n\\n\\n\\nSupport\\n\\nTerms\\r\\n              of Use\\nPrivacy Statement\\nCookie Policy \\nSafe Harbour Provision\\nSite Map\\nModern Slavery Statement \\nPayment\\r\\n              Guide for Suppliers\\n\\n\\n\\nConnect with us\\n\\n    \\n    \\n    \\n    \\n\\n\\n\\n\\n\\n\\n\\n\\nCopyright © 2024 Infosys Limited\\n\\n\\n\\n\\n Select\\r\\n                  Country/region \\n\\n\\nAustralia \\nAustria \\nBelgium \\nBrazil \\nBulgaria \\nCanada \\nChile \\nChina \\nCosta\\r\\n                      Rica\\nCroatia \\nCzech \\nDenmark \\nEstonia \\nFinland \\nFrance \\nGermany \\nHong\\r\\n                      Kong\\nHungary \\nIndia \\nIreland \\nItaly \\nJapan \\nLiechtenstein \\nLatvia \\nLithuania \\nLuxembourg \\nMalaysia \\nMauritius \\nMexico \\nNew\\r\\n                      Zealand\\nNorway \\nPeru \\nPhilippines \\nPoland \\nPortugal \\nRomania \\nRussia \\nSingapore \\nSlovakia \\nSlovenia \\nSouth\\r\\n                      Africa\\nSoutheast Asia\\nSouth\\r\\n                      Korea\\nSpain \\nSweden \\nSwitzerland\\nTaiwan \\nThe Netherlands \\nUnited\\r\\n                      Arab Emirates\\nUnited Kingdom (UK)\\nUnited States \\n\\n\\n\\n\\n\\n\\n\\n\\n\\n\\n  \\n\\n\\n\\n\\n\\n\\n\\n\\n\\n\\n\\n\\n\\n\\n\\n\\n\\n\\n\\n\\n\\n\\n\\n\\n\\n\\n')]"
      ]
     },
     "execution_count": 3,
     "metadata": {},
     "output_type": "execute_result"
    }
   ],
   "source": [
    "url=['https://www.infosys.com']\n",
    "content=WebBaseLoader(url).load()\n",
    "content"
   ]
  },
  {
   "cell_type": "code",
   "execution_count": 4,
   "metadata": {},
   "outputs": [
    {
     "data": {
      "text/plain": [
       "[Document(metadata={'source': 'https://www.infosys.com', 'title': 'Infosys - Consulting | IT Services | Digital Transformation', 'description': 'Infosys is a global leader in next-generation digital services and consulting.', 'language': 'en'}, page_content=\"Infosys - Consulting | IT Services | Digital Transformation\\n\\n\\n\\n\\n\\n\\n\\n\\n\\n\\n\\n\\n\\n\\n\\n\\n\\n\\n\\n\\n\\n\\n\\n\\n\\n\\n\\n\\n\\n\\n\\n\\n\\n\\n\\n\\n\\n\\n\\n\\n\\n\\n\\n\\n\\n\\n\\n\\n\\n\\n\\n\\n\\n\\n\\n \\n\\n \\n\\n\\n\\n Navigate your next \\n Infosys Knowledge Institute \\n Investors \\n Careers \\n\\n\\n\\n\\n\\n\\n\\nsearch\\n\\n\\n\\ncross\\n\\n\\n\\n\\n\\n\\n\\n\\n\\n\\n\\n\\n\\n\\n\\n\\n\\n\\nSearch\\nHit enter to search or ESC to close\\n\\n\\n\\n\\n\\n\\n\\n\\n\\n\\n\\n\\n\\n\\n\\n\\n×\\n\\n\\n\\n\\n\\n\\n\\n\\n\\n\\n\\n\\n\\n\\n\\n\\n\\n\\n\\n\\n\\n\\n\\n\\n\\n\\n\\n\\n\\n\\n\\n\\n   \\n\\n Navigate your next   \\n Industries   \\n Services   \\n Platforms   \\n Infosys Knowledge Institute\\r\\n                  \\n About Us   \\n Investors   \\n Careers\\r\\n                  \\n Newsroom   \\n Contact Us   \\n \\n\\n\\n\\n \\n \\n\\n\\n\\n \\n \\n\\n\\n\\n \\n \\n\\n\\n\\n \\n\\n\\n\\n\\n    \\n\\n\\n   \\n\\n\\n \\nBeing Resilient. That's Live Enterprise.\\n \\n\\n\\n\\n\\n\\nDigital Core Capabilities\\n\\n \\n\\nDigital Operating Model\\n\\n \\n\\nEmpowering Talent Transformations\\n\\n \\n\\nTales of Transformation\\n\\n\\n\\n\\n\\n\\n    \\n\\n\\nIndustries\\n\\n\\n\\n Aerospace & Defense \\n Agriculture \\n Automotive \\n Chemical\\r\\n                    Manufacturing \\n Communication\\r\\n                    Services \\n Consumer\\r\\n                    Packaged Goods \\n Education \\n Engineering\\r\\n                    Procurement & Construction \\n Financial\\r\\n                    Services \\n\\n\\n\\n\\n Healthcare \\n High\\r\\n                    Technology \\n Industrial\\r\\n                    Manufacturing \\n Information Services\\r\\n                    & Publishing \\n Insurance \\n Life Sciences \\n Logistics\\r\\n                    & Distribution \\n Media and\\r\\n                    Entertainment \\n Mining \\n\\n\\n\\n\\n Oil and Gas \\n Private Equity \\n Professional\\r\\n                    Services \\n Public\\r\\n                    Sector \\n Retail \\n Semiconductor \\n Travel and\\r\\n                    Hospitality \\n Utilities \\n Waste\\r\\n                    Management \\n\\n\\n\\n\\n\\n\\n    \\n\\n\\nServices\\n\\n\\n\\n \\nExperience\\n\\n\\n\\n\\n\\n Infosys Aster \\n\\n\\n\\n\\n Digital Marketing \\n\\n\\n\\n\\n Digital Commerce \\n\\n\\n\\n\\n Digital Interactions \\n\\n\\n\\n\\n\\n Digital Workplace\\r\\n                            Services \\n\\n\\n\\n\\n Digital Experience \\n\\n\\n\\n\\n Infosys Metaverse Foundry \\n\\n\\n\\n\\n\\n\\n\\n\\n\\n \\nInsight\\n\\n\\n\\n\\n\\n Infosys\\r\\n                            Topaz \\n\\n\\n\\n\\n Data Analytics and AI \\n\\n\\n\\n\\n Applied AI\\n\\n\\n\\n\\n\\n\\n Infosys Generative AI \\n\\n\\n\\n\\n Infosys Sustainability Services \\n\\n\\n\\n\\n\\n\\n\\n\\n\\n \\nInnovate\\n\\n\\n\\n\\n\\n Blockchain\\n\\n\\n\\n\\n\\n Engineering Services \\n\\n\\n\\n\\n Internet of Things (IoT) \\n\\n\\n\\n\\n\\n\\n\\n\\n\\n \\nAccelerate\\n\\n\\n\\n\\n\\n Enterprise Agile DevOps  \\n\\n\\n\\n\\n API Economy &\\r\\n                            Microservices \\n\\n\\n\\n\\n Application Modernization \\n\\n\\n\\n\\n\\n Cloud - Infosys Cobalt \\n\\n\\n\\n\\n Digital Process\\r\\n                            Automation \\n\\n\\n\\n\\n Digital Supply Chain \\n\\n\\n\\n\\n\\n Microsoft\\r\\n                            Business Application Services \\n\\n\\n\\n\\n Microsoft Cloud Business \\n\\n\\n\\n\\n Oracle \\n\\n\\n\\n\\n\\n SAP \\n\\n\\n\\n\\n Salesforce\\n\\n\\n\\n\\n\\n Service Experience\\r\\n                            Transformation \\n\\n\\n\\n\\n\\n Energy Transition \\n\\n\\n\\n\\n\\n\\n\\n\\n\\n \\nAssure\\n\\n\\n\\n\\n\\n Cyber\\r\\n                            Security \\n\\n\\n\\n\\n Quality Engineering \\n\\n\\n\\n\\n\\n\\n\\n\\n\\n  \\nApplication Development and Maintenance\\n \\n  \\nBusiness Process Management\\n \\n  \\nConsulting Services\\n \\n  \\nIncubating Emerging Offerings\\n \\n\\n\\n\\n\\n\\n\\n    \\n\\n\\nPlatforms\\n\\n\\n\\n EdgeVerve \\n Infosys\\r\\n                    Finacle \\n Infosys Live Enterprise Suite \\n Infosys\\r\\n                    Cortex \\n Infosys\\r\\n                    Meridian \\n\\n\\n\\n\\n Panaya \\n Infosys Equinox \\n Infosys\\r\\n                    Wingspan \\n Infosys\\r\\n                    HELIX \\n Infosys Polycloud \\n\\n\\n\\n\\n\\n\\n    \\n\\n\\nInfosys Knowledge Institute\\n\\n\\n\\n Overview \\n Connect \\n About Us \\n\\n\\n\\n\\n Learn\\n Research \\n Perspectives \\n Podcasts \\n Videos \\n\\n\\n\\n\\n\\n\\n    \\n\\n\\nAbout Us\\n\\n\\n\\n Overview \\n History \\n\\n ESG\\n\\n Management\\r\\n                    Profiles \\n Infosys Knowledge\\r\\n                    Institute \\n Infosys Stories \\n Champions Evolve \\n Infosys Springboard \\n\\n\\n\\n\\n\\n Subsidiaries \\n Clients Speak \\n Alliances \\n Innovation Fund \\n Infosys Innovation\\r\\n                    Network (IIN) \\n Diversity Equity\\r\\n                    Inclusion \\n Awards \\n Analyst Reports \\n\\n\\n\\n\\n Flagship Brand Partnerships \\n Tennis \\n\\n All Partnerships \\n Australian Open \\n Roland-Garros \\n ATP \\n  International\\r\\n                      Tennis Hall of Fame  \\n\\n\\n Formula E\"),\n",
       " Document(metadata={'source': 'https://www.infosys.com', 'title': 'Infosys - Consulting | IT Services | Digital Transformation', 'description': 'Infosys is a global leader in next-generation digital services and consulting.', 'language': 'en'}, page_content=\"Flagship Brand Partnerships \\n Tennis \\n\\n All Partnerships \\n Australian Open \\n Roland-Garros \\n ATP \\n  International\\r\\n                      Tennis Hall of Fame  \\n\\n\\n Formula E \\n\\n Madison Square\\r\\n                    Garden \\n The Economist\\r\\n                    Group \\n Dow Jones \\n Financial Times \\n The Cloud Hub \\n Handelsblatt \\n\\n\\n\\n\\n\\n\\n\\n\\n\\n\\n\\n\\n\\n\\n\\n\\n\\n\\n\\n\\n\\n\\n\\n\\n\\n\\n\\n \\n\\n\\n\\n\\n\\n\\nInfosys and The Financial Times Unveil the ‘FT Money Machine’ Through Immersive Extended Reality Experience\\nKnow more \\n\\n\\n\\n\\n\\n\\n\\n\\n \\n\\n\\n\\n\\n\\n\\nLaunched Infosys Aster: The AI-amplified\\r\\n                    Marketing Suite\\nKnow more \\n\\n\\n\\n\\n\\n\\n\\n\\n \\n\\n\\n\\n\\n\\n\\n\\nChampions Evolve.\\n\\nDigital-First\\nCloud-First\\nAI-First\\n\\nKnow\\r\\n                  More \\n\\n\\n\\n\\n\\n\\n\\n\\n \\n\\n\\n\\n\\n\\n\\n\\nCloud Survey Report 2024\\nKnow more \\n\\n\\n\\n\\n\\n\\n\\n\\n\\n\\n\\n\\n\\n\\n\\nDigital Core Capabilities\\n Build vital capabilities to deliver digital outcomes.\\n Explore\\n\\n\\nCase studies\\nPfizer's journey towards increased productivity, powered by AI\\n View\\n\\n\\n\\xa0\\nA government that contributes to the joy of parenting\\n View\\n\\n\\n\\n\\n\\n\\n\\n\\n\\n\\n\\n\\n\\n\\n\\nDigital Operating Model\\n For the AI-first Enterprise\\n Explore\\n\\n\\nClient Speak\\nA transformation story of BASF Agricultural Solutions to achieve faster time-to-market using DevOps and DataOps\\n View\\n\\n\\nClient Testimonial\\nNN Life Insurance Company Partners with Infosys for its Cloud and Agile Transformation\\n View\\n\\n\\n\\n\\n\\n\\n\\n\\n\\n\\n\\n\\n\\n\\n\\nEmpowering Talent Transformations\\n Embrace the talent revolution to remain relevant in the future.\\n Explore\\n\\n\\nInsights\\nImproving productivity with digital field workforce management\\n View\\n\\n\\n\\xa0\\nDeveloping talent for our digital future\\n View\\n\\n\\n\\n\\n\\n\\n\\n\\n\\n\\n\\n\\n\\n\\n\\nThe next\\nWe bring you\\r\\n          powerful advantages to navigate your digital transformation\\n\\n\\n\\n\\n \\n \\n\\n\\nExperience\\n Design-led transformation. From brand to\\r\\n                    experience Create unified digital experiences\\r\\n                    to enhance customer experience and build loyalty \\n\\n\\n \\n \\n \\n\\n\\nInsight\\n Do 100x more. Do it yourself Build an analytics-driven enterprise to monetize data \\n\\n\\n \\n \\n \\n\\n\\nInnovate\\n Bridge the physical and digital, with software and\\r\\n                    platforms Engineer digital-first products and\\r\\n                    offerings to create new revenue streams \\n\\n\\n \\n \\n \\n\\n\\nAccelerate\\n Keep your core. Keep innovating Find your path to non-disruptive renewal of IT\\r\\n                    landscapes \\n\\n\\n \\n \\n \\n\\n\\nAssure\\n Digital-trust. Assured. To be\\r\\n                    the catalyst for growth by solving complex\\r\\n                    cybersecurity problems, minimizing risks and building cyber resilience for your\\r\\n                    businesses across the globe \\n\\n\\n \\n\\n\\n\\n\\n \\nService offerings\\n\\n\\n\\nService offerings\\n\\n\\n\\n\\n\\n \\nExplore industries\\n\\n\\n\\nExplore industries\\n\\n\\n\\n\\n\\n \\nOur platforms\\n\\n\\n\\nOur platforms\\n\\n\\n\\n\\n\\n \\nNavigate your next\\n\\n\\n\\nNavigate your next\\n\\n\\n\\n\\n\\n\\n\\n\\n \\n\\n\\n\\nBringing data, insights and digital experiences to the ATP world tour\\nImagine a machine with a mind of its own- one that tells you the exact degree to bend\\r\\n                  for the perfect backhand.\\r\\n                  This future is being shaped with data-driven analytics, virtual reality and\\r\\n                  artificial intelligence. Infosys\\r\\n                  and ATP World Tour have partnered to explore these new rich digital experiences, so\\r\\n                  you can see the game\\r\\n                  you love, like never before.\\n Learn more \\n\\n\\nExplore services\\n Blockchain \\n Infosys\\r\\n                    Cobalt \\n Data\\r\\n                    analytics \\n Mainframe\\r\\n                    modernization \\n View all \\n\\n\\n\\n\\n\\n\\n\\n \\n\\n\\n\\nAimia and Infosys: Innovating for a better future\\nJan – Pieter Lips, President, International Coalitions, Aimia speaks about the\\r\\n                  evolution of the relationship\\r\\n                  between Aimia and Infosys and our journey from being a trusted IT vendor partner to\\r\\n                  a truly strategic partner\\r\\n                  to Aimia. At the core of this relationship is an environment of always-on learning\\r\\n                  and relentless innovation.\\n Learn more\"),\n",
       " Document(metadata={'source': 'https://www.infosys.com', 'title': 'Infosys - Consulting | IT Services | Digital Transformation', 'description': 'Infosys is a global leader in next-generation digital services and consulting.', 'language': 'en'}, page_content='Explore industries\\n Aerospace &\\r\\n                    Defense \\n Agriculture \\n Automotive \\n Financial\\r\\n                    Services \\n Communication\\r\\n                    Services \\n View all \\n\\n\\n\\n\\n\\n\\n\\n \\n\\n\\n\\nBring the power of AI to build a deeply automated foundation for the enterprise\\nInfosys Nia is helping organizations succeed with enterprise-grade artificial\\r\\n                  intelligence by simplifying\\r\\n                  complex tasks and amplifying capabilities to allow the enterprise to reinvent itself\\r\\n                  and do things it could\\r\\n                  never do before\\n Learn more \\n\\n\\nExplore platforms\\n EdgeVerve \\n Infosys\\r\\n                    Finacle \\n Infosys Nia \\n Panaya\\n\\n Infosys\\r\\n                    Equinox \\n View\\r\\n                    all \\n\\n\\n\\n\\n\\n\\n \\n\\n\\n\\nNavigate your next\\nDiscover how we navigate our clients from where they are to where they aspire to be.\\r\\n                  We do it by enabling\\r\\n                  them with an AI-powered core that helps prioritize the execution of change. We also\\r\\n                  empower the business\\r\\n                  with agile digital at scale to deliver unprecedented levels of performance. Our\\r\\n                  always-on learning agenda\\r\\n                  drives their continuous improvement.\\n Explore \\n\\n\\n\\n\\n\\n\\n\\n\\n\\n\\n\\n\\n\\n\\n\\n\\n\\n\\n\\n\\n\\n\\n\\nRing the Sound of Opportunity, Move 1,000+1,000 Lives Forward\\n\\n Read more \\n\\n\\n\\n\\n\\n\\n\\n\\n\\n\\n\\nOur Purpose:\\nTo amplify human potential and create the next opportunity for\\r\\n            people, businesses and communities\\n\\n\\n\\n\\n\\n\\n\\n\\n\\n\\n \\nAbout us\\nA global leader in next-generation digital\\r\\n          services and consulting\\n\\n\\n\\n\\n 56\\ncountries where we have trusting clients\\n\\n\\n\\n\\nUS$18.8\\nbillion total revenue (LTM)\\n\\n\\n\\n\\n 24+\\nmillion training (hours) conducted for employees, globally\\n\\n\\n\\n\\n\\n\\n\\nIn the news\\n \\nWhile only 2% are ready, most companies expect productivity gains of 10-40% with Enterprise AI: Infosys Research  \\n \\n \\nInfosys Unveils Small Language Models – Infosys Topaz BankingSLM and Infosys Topaz ITOpsSLM – Built on NVIDIA AI Stack  \\n \\n \\nInfosys Collaborates with University of Cambridge to Establish an AI Lab in London. Unveils New and Expanded Living Lab to Accelerate Innovation for Enterprises  \\n \\n   Launched today: Infosys Topaz - An AI-first offering to\\r\\n                accelerate business value for global enterprises using generative AI \\n\\n\\n\\n\\n\\n\\n\\n \\n\\n  \\n\\nInfosys Q2 FY25 Results - Archived Webcast\\nOctober 17, 2024\\n\\n\\n \\n\\n\\n \\n\\n  \\n\\nThe Future of Work 2023 Report \\n\\n\\n \\n\\n\\n\\n \\n\\n  \\n\\n\\n\\nESG is a business necessity, and offers short-term financial\\r\\n                            benefits now\\n\\n\\n\\n\\n \\n\\n\\n \\n\\n  \\n\\nWhy are enterprises moving their applications to the cloud? – An\\r\\n                        Infosys research\\n\\n\\n \\n\\n\\n\\n\\n\\n\\n\\n\\n\\n\\n\\n\\n\\n\\n\\nInvestors\\nMaximizing shareholder value with\\r\\n          good corporate governance\\n\\n\\n\\n  \\nIntegrated Annual Report 2024\\n \\n\\n\\nInvestor central\\n Results\\n Second Quarter FY25\\n\\n Archived Webcast\\n Q2 FY25 Press\\r\\n                Conference\\n\\n Event\\n The 43rd\\r\\n                Annual General Meeting\\n\\n View All\\n\\n\\n\\n\\n\\n\\n\\n\\n\\n\\n\\n\\n\\nCareers\\nEvery Infoscion is the navigator\\r\\n          of our clients’ digital transformation\\n\\n\\n\\n\\n\\n  \\nLife at Infosys\\n\\nWhat our people say\\n\\n  \"I\\'m most excited about the\\r\\n                  opportunity to grow\\r\\n                  at Infosys.\" \\r\\n                  - Danielle, Infosys Indiana \\n  \"I joined Infosys because of\\r\\n                  the excellent\\r\\n                  hands-on training.\" \\r\\n                  - Annam, Infosys Plano \\n  \"Infosys is on an Amazing journey of\\r\\n                  transformation\" \\r\\n                  - Becky, Infosys Plano \\n\\n\\n\\n\\n\\n\\nFind opportunities right for you\\nExplore Careers\\n\\n\\n\\n\\n\\n\\n\\n\\n\\n\\n\\n\\nAmericas \\n\\n\\n\\nAsia Pacific \\n\\n\\n\\nEurope \\n\\n\\n\\nMiddle East and Africa \\n\\n\\n\\n\\nLet\\'s help you navigate your next\\ncontact us \\n\\n\\n\\n\\n\\n\\n\\n\\n\\nNavigate your next\\n\\nCore Capabilities\\n\\nOperating Models\\n\\nTalent Transformations\\n\\nThe next\\n\\nAbout us\\n\\nInvestors\\n\\nCareers\\n\\nContact us  \\n\\n\\n\\n\\n\\n\\n\\n\\n\\n\\n\\n\\n\\n\\n\\n\\n\\nCompany'),\n",
       " Document(metadata={'source': 'https://www.infosys.com', 'title': 'Infosys - Consulting | IT Services | Digital Transformation', 'description': 'Infosys is a global leader in next-generation digital services and consulting.', 'language': 'en'}, page_content='Navigate your next\\n\\nCore Capabilities\\n\\nOperating Models\\n\\nTalent Transformations\\n\\nThe next\\n\\nAbout us\\n\\nInvestors\\n\\nCareers\\n\\nContact us  \\n\\n\\n\\n\\n\\n\\n\\n\\n\\n\\n\\n\\n\\n\\n\\n\\n\\nCompany\\n\\nNavigate your next\\nAbout\\r\\n              Us\\nCareers\\nESG\\nInvestors \\nNewsroom\\nAlumni \\n\\n\\n\\nSubsidiaries\\n\\nEdgeVerve Systems\\nInfosys BPM \\nInfosys Consulting\\nInfosys Public Services\\n\\n\\n\\nPrograms\\n\\nInfosys Foundation\\nInfosys Foundation USA\\nInfosys Science Foundation\\nInfosys Leadership Institute\\n\\n\\n\\n\\nSupport\\n\\nTerms\\r\\n              of Use\\nPrivacy Statement\\nCookie Policy \\nSafe Harbour Provision\\nSite Map\\nModern Slavery Statement \\nPayment\\r\\n              Guide for Suppliers\\n\\n\\n\\nConnect with us\\n\\n    \\n    \\n    \\n    \\n\\n\\n\\n\\n\\n\\n\\n\\nCopyright © 2024 Infosys Limited\\n\\n\\n\\n\\n Select\\r\\n                  Country/region \\n\\n\\nAustralia \\nAustria \\nBelgium \\nBrazil \\nBulgaria \\nCanada \\nChile \\nChina \\nCosta\\r\\n                      Rica\\nCroatia \\nCzech \\nDenmark \\nEstonia \\nFinland \\nFrance \\nGermany \\nHong\\r\\n                      Kong\\nHungary \\nIndia \\nIreland \\nItaly \\nJapan \\nLiechtenstein \\nLatvia \\nLithuania \\nLuxembourg \\nMalaysia \\nMauritius \\nMexico \\nNew\\r\\n                      Zealand\\nNorway \\nPeru \\nPhilippines \\nPoland \\nPortugal \\nRomania \\nRussia \\nSingapore \\nSlovakia \\nSlovenia \\nSouth\\r\\n                      Africa\\nSoutheast Asia\\nSouth\\r\\n                      Korea\\nSpain \\nSweden \\nSwitzerland\\nTaiwan \\nThe Netherlands \\nUnited\\r\\n                      Arab Emirates\\nUnited Kingdom (UK)\\nUnited States')]"
      ]
     },
     "execution_count": 4,
     "metadata": {},
     "output_type": "execute_result"
    }
   ],
   "source": [
    "document=RecursiveCharacterTextSplitter(chunk_size=4000,chunk_overlap=200).split_documents(content)\n",
    "document"
   ]
  },
  {
   "cell_type": "code",
   "execution_count": 5,
   "metadata": {},
   "outputs": [],
   "source": [
    "class EmailStructure(BaseModel):\n",
    "    subject: str = Field(description=\"The subject line of the email, should be concise, attention-grabbing, and relevant to the recipient.\")\n",
    "    body: str = Field(\n",
    "        description=\"The main content of the email, including an engaging introduction, personalized messaging, a clear call to action (CTA), and formatting that enhances readability. \"\n",
    "                    \"Consider including dynamic content (such as the recipient's name, relevant offers, or interests), bullet points for clarity, and emotional language to evoke a response. \"\n",
    "                    \"The tone should be friendly but professional, maintaining a balance between informative and persuasive elements to increase engagement rates.\"\n",
    "                    \"No placeholder should be there, it must be complete\",\n",
    "    )\n",
    "parser = JsonOutputParser(pydantic_object=EmailStructure)"
   ]
  },
  {
   "cell_type": "code",
   "execution_count": 6,
   "metadata": {},
   "outputs": [],
   "source": [
    "custom_prompt=\"\"\"\n",
    "        Generate a cold email with the following components:\n",
    "        1. A compelling subject line that grabs attention\n",
    "        2. A friendly greeting with talking abut there problem \n",
    "        3. An introduction as \"Akshay Kumar BM \"freelancer who specializes in the specified purpose\n",
    "        4. A clear value proposition based on the recipient's website content\n",
    "        5. An offer of a free trial or initial consultation\n",
    "        6. A call to action (CTA) to engage the recipient\n",
    "        7. A polite sign-off\n",
    "        contact information : akshaykumarbedre.bm@gmail.com\n",
    "        \"\"\"\n",
    "email_prompt = PromptTemplate(\n",
    "            template=\"\"\"\n",
    "            Purpose: {purpose}\\n\\n\n",
    "            Use the information below to craft the email:\\n\\n\n",
    "            {text}\\n\\n\n",
    "            \"\"\"+custom_prompt+\"\"\"\\n\\n\n",
    "            Also, provide a suitable subject line for this cold email.\n",
    "            {format_instructions}\n",
    "            COLD EMAIL:\n",
    "            \"\"\",\n",
    "            input_variables=[\"text\", \"purpose\"],\n",
    "            partial_variables={\"format_instructions\": parser.get_format_instructions()}\n",
    "        )\n",
    "\n",
    "refine_prompt = PromptTemplate(\n",
    "            template=\"\"\"\n",
    "            Purpose: {purpose}\\n\\n\n",
    "\n",
    "            We have provided a draft cold email: {existing_answer}\n",
    "            Refine the email based on additional context below to make it more compelling or leave it as is if not needed.\n",
    "            ------------\n",
    "            {text}\n",
    "            ------------\n",
    "            Refine the cold email in English based on the new context. If the new context is not useful, return the original cold email.\n",
    "            {format_instructions}\n",
    "            \"\"\",\n",
    "            input_variables=[\"existing_answer\", \"text\",\"purpose\"],\n",
    "            partial_variables={\"format_instructions\": parser.get_format_instructions()}\n",
    ")"
   ]
  },
  {
   "cell_type": "code",
   "execution_count": 7,
   "metadata": {},
   "outputs": [],
   "source": [
    "chain=load_summarize_chain(\n",
    "            llm=llm,\n",
    "            chain_type=\"refine\",\n",
    "            question_prompt=email_prompt,\n",
    "            refine_prompt=refine_prompt,\n",
    "            return_intermediate_steps=False,\n",
    "        )\n"
   ]
  },
  {
   "cell_type": "code",
   "execution_count": 8,
   "metadata": {},
   "outputs": [],
   "source": [
    "purpose=\"To offer automated personalized cold email services\""
   ]
  },
  {
   "cell_type": "code",
   "execution_count": 9,
   "metadata": {},
   "outputs": [],
   "source": [
    "result = chain.invoke({\n",
    "                \"input_documents\": document,\n",
    "                \"purpose\": purpose\n",
    "            })"
   ]
  },
  {
   "cell_type": "code",
   "execution_count": 11,
   "metadata": {},
   "outputs": [
    {
     "data": {
      "text/plain": [
       "'Based on the new context, the refined cold email in JSON format is:\\n\\n```json\\n{\\n  \"properties\": {\\n    \"subject\": \"Unlock the Power of Personalized Cold Email Services for Infosys\\'s Digital Transformation\",\\n    \"body\": \"Hi there,\\\\n\\\\nI came across the latest Infosys announcements on navigating your next-gen digital transformation journey, focusing on core capabilities, operating models, talent transformations, and more. I was impressed by the comprehensive approach you\\'re taking to drive business growth and innovation.\\\\n\\\\nAs a freelancer who specializes in automated personalized cold email services, I understand the challenges of effectively reaching potential clients in the competitive tennis and tech industries. My services can help you streamline your email marketing efforts, increase engagement rates, and ultimately drive more conversions.\\\\n\\\\nConsidering Infosys\\'s commitment to amplifying human potential and creating the next opportunity for people, businesses, and communities, I believe my expertise can complement your existing initiatives (e.g., the Infosys Aster AI-amplified Marketing Suite and the recently launched Infosys Topaz AI-first offering).\\\\n\\\\nHere\\'s how I can help:\\\\n\\\\n* Provide personalized email content that resonates with your target audience, leveraging insights from your recent partnerships (e.g., the ATP World Tour) and industry trends.\\\\n* Automate your email sending process to save time and resources, allowing you to focus on high-value tasks like strategy and relationship-building.\\\\n* Track and analyze your email performance to optimize future campaigns and maximize returns on investment.\\\\n\\\\nI\\'d like to offer you a free trial of my services to see the results for yourself. We can also schedule an initial consultation to discuss your specific needs and goals, and explore how my expertise can support your company\\'s digital transformation journey.\\\\n\\\\nLet\\'s get started on transforming your business with automated personalized cold email services. Please reply to this email or contact me at akshaykumarbedre.bm@gmail.com to schedule a consultation.\\\\n\\\\nBest regards,\\\\nAkshay Kumar BM\"\\n  },\\n  \"required\": [\"subject\", \"body\"]\\n}\\n```\\n\\nI refined the cold email by:\\n\\n*   Emphasizing the relevance of automated personalized cold email services to Infosys\\'s digital transformation journey.\\n*   Mentioning the comprehensive approach Infosys is taking to drive business growth and innovation.\\n*   Highlighting the importance of complementary expertise in supporting Infosys\\'s digital transformation journey.\\n*   Offering a free trial and a consultation to discuss specific needs and goals, aligning with the tone of supporting digital transformation.\\n*   Maintaining a balance between informative and persuasive elements to increase engagement rates.\\n\\nThe refined email remains concise, attention-grabbing, and relevant to the recipient, while also being friendly, yet professional.'"
      ]
     },
     "execution_count": 11,
     "metadata": {},
     "output_type": "execute_result"
    }
   ],
   "source": [
    "result[\"output_text\"]"
   ]
  }
 ],
 "metadata": {
  "kernelspec": {
   "display_name": "Python 3",
   "language": "python",
   "name": "python3"
  },
  "language_info": {
   "codemirror_mode": {
    "name": "ipython",
    "version": 3
   },
   "file_extension": ".py",
   "mimetype": "text/x-python",
   "name": "python",
   "nbconvert_exporter": "python",
   "pygments_lexer": "ipython3",
   "version": "3.10.0"
  }
 },
 "nbformat": 4,
 "nbformat_minor": 2
}
